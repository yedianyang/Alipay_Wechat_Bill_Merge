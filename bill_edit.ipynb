{
 "cells": [
  {
   "cell_type": "code",
   "execution_count": 10,
   "metadata": {},
   "outputs": [],
   "source": [
    "import csv\n",
    "import numpy as np\n",
    "import pandas as pd\n",
    "import chardet"
   ]
  },
  {
   "cell_type": "code",
   "execution_count": 11,
   "metadata": {},
   "outputs": [],
   "source": [
    "def get_bill_table(path: str,source: str) -> pd.core.frame.DataFrame:\n",
    "    \"\"\"\n",
    "    this method can convert a csv bill file into pandas DataFrame\n",
    "    \n",
    "    paramaer:\n",
    "    path: bill csv file path\n",
    "    source: 'wechat' or 'alipay'\n",
    "    \"\"\"\n",
    "    cont = 0;\n",
    "    placeholder = []\n",
    "    encoding = chardet.detect(open(path,'rb').read())['encoding']\n",
    "    if source == 'wechat':\n",
    "        trigger = 16\n",
    "    elif source == 'alipay':\n",
    "        trigger = 4\n",
    "    \n",
    "    with open(path ,encoding = encoding, newline ='')as csvfile:\n",
    "        reader_ = csv.reader(csvfile, delimiter = ',',quotechar = ' ')\n",
    "        for row in reader_:\n",
    "            cont += 1\n",
    "            if cont > trigger:\n",
    "                #print(row)\n",
    "                placeholder.append(row)\n",
    "    \n",
    "    return pd.core.frame.DataFrame(placeholder)\n",
    "\n",
    "\n",
    "\n",
    "\n",
    "def merge_bills(wechatData: pd.core.frame.DataFrame, alipayData: pd.core.frame.DataFrame) -> pd.core.frame.DataFrame:\n",
    "    \"\"\"\n",
    "    Merge two bills together, after rearrange bill columns\n",
    "\n",
    "    parameter:\n",
    "    wechatData: wechat bills\n",
    "    alipayData: alipay bills\n",
    "    \"\"\"\n",
    "    alipay_bill_rearrangement = pd.concat([alipayData[3],alipayData[6],alipayData[7],alipayData[8],alipayData[10],alipayData[9],\\\n",
    "                                           alipayData[5],alipayData[11],alipayData[0],alipayData[1],alipayData[14]],axis = 1)\n",
    "    alipay_bill_rearrangement.columns = wechatData.columns #rename columns’ title\n",
    "    alipay_bill_rearrangement = alipay_bill_rearrangement.drop([0])\n",
    "\n",
    "    merge = wechatData.append(alipay_bill_rearrangement,ignore_index= True)\n",
    "    \n",
    "    return merge"
   ]
  },
  {
   "cell_type": "code",
   "execution_count": 12,
   "metadata": {},
   "outputs": [
    {
     "name": "stdin",
     "output_type": "stream",
     "text": [
      "输入文件所在路径 /Users/yedianyang/OneDrive/资金/资金走向/2020年8月\n",
      "微信账单地址 /Users/yedianyang/OneDrive/资金/资金走向/2020年8月/微信支付账单(20200801-20200815).csv\n",
      "支付宝账单地址  /Users/yedianyang/OneDrive/资金/资金走向/2020年8月/alipay_record_20200815_1021_1.csv\n"
     ]
    },
    {
     "name": "stdout",
     "output_type": "stream",
     "text": [
      "导出完成\n"
     ]
    }
   ],
   "source": [
    "path = input(\"输入文件所在路径\")\n",
    "#file_path_1 = input(\"微信账单名称\")\n",
    "#file_path_2 = input(\"支付宝账单名称 \")\n",
    "\n",
    "#wechat_bill = get_bill_table(path + '/' + file_path_1, 'wechat')\n",
    "#alipay_bill = get_bill_table(path + '/' + file_path_2, 'alipay')\n",
    "\n",
    "file_path_1 = input(\"微信账单地址\")\n",
    "file_path_2 = input(\"支付宝账单地址 \")\n",
    "wechat_bill = get_bill_table(file_path_1, 'wechat')\n",
    "alipay_bill = get_bill_table(file_path_2, 'alipay')\n",
    "\n",
    "final_bill = merge_bills(wechat_bill,alipay_bill)\n",
    "#final_bill.to_csv(input('导出地址:') + '/merge.csv',encoding = 'UTF-8-SIG')\n",
    "final_bill.to_csv(path + '/merge.csv',encoding = 'UTF-8-SIG')\n",
    "\n",
    "print(\"导出完成\")"
   ]
  },
  {
   "cell_type": "code",
   "execution_count": 8,
   "metadata": {},
   "outputs": [
    {
     "data": {
      "text/plain": [
       "'GB2312'"
      ]
     },
     "execution_count": 8,
     "metadata": {},
     "output_type": "execute_result"
    }
   ],
   "source": [
    "chardet.detect(open('/Users/yedianyang/OneDrive/资金/资金走向/2020年6月/alipay_record_20200723_1823_1.csv','rb').read())['encoding']"
   ]
  }
 ],
 "metadata": {
  "kernelspec": {
   "display_name": "Python 3",
   "language": "python",
   "name": "python3"
  },
  "language_info": {
   "codemirror_mode": {
    "name": "ipython",
    "version": 3
   },
   "file_extension": ".py",
   "mimetype": "text/x-python",
   "name": "python",
   "nbconvert_exporter": "python",
   "pygments_lexer": "ipython3",
   "version": "3.7.4"
  }
 },
 "nbformat": 4,
 "nbformat_minor": 4
}
